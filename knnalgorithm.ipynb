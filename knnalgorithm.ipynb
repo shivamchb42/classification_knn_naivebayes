{
 "cells": [
  {
   "cell_type": "code",
   "execution_count": 222,
   "id": "46135f8c",
   "metadata": {},
   "outputs": [],
   "source": [
    "#importing required libraries\n",
    "%matplotlib inline\n",
    "import numpy as np\n",
    "import pandas as pd\n",
    "import matplotlib.pyplot as plt\n",
    "import zipfile as zip\n",
    "import math\n",
    "plt.rcParams['figure.figsize'] = (20.0, 10.0)"
   ]
  },
  {
   "cell_type": "code",
   "execution_count": 223,
   "id": "bf7e6071",
   "metadata": {},
   "outputs": [],
   "source": [
    "#read data\n",
    "def loaddata(filename, key):\n",
    "    zf = zip.ZipFile(filename) \n",
    "    traindata = pd.read_csv(zf.open('train.csv'))\n",
    "    testdata = pd.read_csv(zf.open('test.csv'))\n",
    "    if key == 0:\n",
    "        return traindata\n",
    "    else :\n",
    "        return testdata"
   ]
  },
  {
   "cell_type": "code",
   "execution_count": 224,
   "id": "549267f9",
   "metadata": {},
   "outputs": [],
   "source": [
    "def preprocess(data):\n",
    "    \n",
    "    #drop unnecessary fields\n",
    "    data = data.drop(['Name','Cabin','Ticket','SibSp','Parch'], axis=1)\n",
    "    \n",
    "    #convert the column of Sex into numeric value\n",
    "    for i in range(data['Sex'].size):\n",
    "        if data['Sex'][i] == 'female':\n",
    "            data.loc[i, 'Sex'] = 0\n",
    "        else:\n",
    "            data.loc[i, 'Sex'] = 1\n",
    "    data['Sex'] = pd.to_numeric(data['Sex'])\n",
    "    \n",
    "    #remove null values\n",
    "    data = data.dropna()\n",
    "    return data"
   ]
  },
  {
   "cell_type": "code",
   "execution_count": 225,
   "id": "6cff97ec",
   "metadata": {},
   "outputs": [],
   "source": [
    "def dis(x_train,x_test,k) :\n",
    "    fin = []\n",
    "    t = []\n",
    "    for j in x_test.index:\n",
    "        d = []\n",
    "        for i in x_train.index:\n",
    "            temp = []\n",
    "            dist = math.sqrt((x_train['Sex'][i]-x_test['Sex'][j])**2 + (x_train['Age'][i]-x_test['Age'][j])**2 + (x_train['Fare'][i]-x_test['Fare'][j])**2)\n",
    "            temp.append(dist)\n",
    "            temp.append(x_train['PassengerId'][i])\n",
    "            temp.append(x_test['PassengerId'][j])\n",
    "            d.append(temp)\n",
    "        d.sort()\n",
    "        fin.append(d[:k])\n",
    "    return fin"
   ]
  },
  {
   "cell_type": "code",
   "execution_count": 226,
   "id": "4cf18520",
   "metadata": {},
   "outputs": [],
   "source": [
    "def predict(dist,c1,c2):\n",
    "    yp = []\n",
    "    for i in dist:\n",
    "        count1 = 0\n",
    "        count2 = 0\n",
    "        temp = []\n",
    "        t = 0\n",
    "        for j in i:\n",
    "            t = j[2]\n",
    "            if j[1] in c1:\n",
    "                count1 += 1\n",
    "            else:\n",
    "                count2 += 1\n",
    "        if count1>count2:\n",
    "            temp.append(t)\n",
    "            temp.append(0)\n",
    "            yp.append(temp)\n",
    "        else:\n",
    "            temp.append(t)\n",
    "            temp.append(1)\n",
    "            yp.append(temp)\n",
    "    return yp"
   ]
  },
  {
   "cell_type": "code",
   "execution_count": 227,
   "id": "3208665a",
   "metadata": {},
   "outputs": [],
   "source": [
    "def accuracy(yp,y_test):\n",
    "    err = 0\n",
    "    for i in range(len(yp)):\n",
    "        if yp[i][1] == y_test[i][1]:\n",
    "            err += 0\n",
    "        else:\n",
    "            err += 1\n",
    "    n = len(yp)\n",
    "    acc = 1 - (err/n)\n",
    "    return acc"
   ]
  },
  {
   "cell_type": "code",
   "execution_count": 228,
   "id": "5af94ac5",
   "metadata": {},
   "outputs": [],
   "source": [
    "def knn(x,y):\n",
    "    n = len(y)\n",
    "    \n",
    "    #splitting into test and train\n",
    "    m = 2*n//3\n",
    "    x_train = x.iloc[:m]\n",
    "    x_test = x.iloc[m:]\n",
    "    y_train = y.iloc[:m]\n",
    "    y_test = y.iloc[m:]\n",
    "    \n",
    "    #creating seperate classes\n",
    "    c1 = []\n",
    "    c2 = []\n",
    "    for i in x_train.index:\n",
    "        if y_train['Survived'][i] == 0 :\n",
    "            c1.append(y_train['PassengerId'][i])\n",
    "        else:\n",
    "            c2.append(y_train['PassengerId'][i])\n",
    "            \n",
    "    y_test = y_test.values.tolist()\n",
    "    k = 2\n",
    "    kopt = 2\n",
    "    maxac = 0\n",
    "    for k in range(20):\n",
    "        dist = dis(x_train,x_test,k)\n",
    "        yp = predict(dist,c1,c2)\n",
    "        acc = accuracy(yp,y_test)    \n",
    "        if acc> maxac:\n",
    "            kopt = k\n",
    "            maxac = acc\n",
    "    print(\"Optimal value of k is :\",k)\n",
    "    print(\"Efficiency:\",maxac)"
   ]
  },
  {
   "cell_type": "code",
   "execution_count": 229,
   "id": "f009c020",
   "metadata": {},
   "outputs": [],
   "source": [
    "def main():\n",
    "    filename = 'titanic.zip'\n",
    "    data = loaddata(filename,0)\n",
    "    traindata = preprocess(data)\n",
    "    x = traindata.drop(['Survived'], axis=1)\n",
    "    y = traindata.drop(['Pclass','Sex','Age','Fare','Embarked'], axis=1)\n",
    "    n = len(x)//2\n",
    "    knn(x,y)"
   ]
  },
  {
   "cell_type": "code",
   "execution_count": 230,
   "id": "b927bd7f",
   "metadata": {},
   "outputs": [
    {
     "name": "stdout",
     "output_type": "stream",
     "text": [
      "Optimal value of k is : 19\n",
      "Efficiency: 0.7436974789915967\n"
     ]
    }
   ],
   "source": [
    "main()"
   ]
  },
  {
   "cell_type": "code",
   "execution_count": null,
   "id": "4349410f",
   "metadata": {},
   "outputs": [],
   "source": []
  }
 ],
 "metadata": {
  "kernelspec": {
   "display_name": "Python 3 (ipykernel)",
   "language": "python",
   "name": "python3"
  },
  "language_info": {
   "codemirror_mode": {
    "name": "ipython",
    "version": 3
   },
   "file_extension": ".py",
   "mimetype": "text/x-python",
   "name": "python",
   "nbconvert_exporter": "python",
   "pygments_lexer": "ipython3",
   "version": "3.9.12"
  }
 },
 "nbformat": 4,
 "nbformat_minor": 5
}
